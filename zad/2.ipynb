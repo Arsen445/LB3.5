{
 "cells": [
  {
   "attachments": {},
   "cell_type": "markdown",
   "metadata": {},
   "source": [
    "# Самостоятельное задание\n",
    "### Создать ноутбук, в котором выполнить решение вычислительной задачи (например, задачи из области физики, экономики, математики, статистики и т. д.) требующей построения столбчатой диаграммы, условие которой предварительно необходимо согласовать с преподавателем."
   ]
  },
  {
   "attachments": {},
   "cell_type": "markdown",
   "metadata": {},
   "source": [
    "### В магазине одежды проводится анализ по продажам различных категорий товаров: верхняя одежда, обувь, аксессуары. Имеются данные о количестве проданных единиц каждой категории товаров за последний месяц. Необходимо сравнить их продажи и определить, какая категория товаров пользуется большей популярностью среди покупателей. Также нужно найти среднее количество проданных единиц каждой категории товаров.\n"
   ]
  },
  {
   "cell_type": "code",
   "execution_count": 27,
   "metadata": {},
   "outputs": [],
   "source": [
    "import matplotlib.pyplot as plt\n",
    "import numpy as np"
   ]
  },
  {
   "cell_type": "code",
   "execution_count": 28,
   "metadata": {},
   "outputs": [],
   "source": [
    "outerwear_sales = [120, 90, 80, 100]  # Продажи верхней одежды за последний месяц\n",
    "footwear_sales = [80, 100, 110, 90]  # Продажи обуви за последний месяц\n",
    "accessories_sales = [60, 70, 80, 75]  # Продажи аксессуаров за последний месяц"
   ]
  },
  {
   "attachments": {},
   "cell_type": "markdown",
   "metadata": {},
   "source": [
    "### Вычисление среднего количества проданных единиц каждой категории товаров\n"
   ]
  },
  {
   "cell_type": "code",
   "execution_count": 29,
   "metadata": {},
   "outputs": [],
   "source": [
    "outerwear_avg_sales = np.mean(outerwear_sales)\n",
    "footwear_avg_sales = np.mean(footwear_sales)\n",
    "accessories_avg_sales = np.mean(accessories_sales)\n"
   ]
  },
  {
   "attachments": {},
   "cell_type": "markdown",
   "metadata": {},
   "source": [
    "### Построение столбчатой диаграммы для сравнения продаж"
   ]
  },
  {
   "cell_type": "code",
   "execution_count": 30,
   "metadata": {},
   "outputs": [],
   "source": [
    "labels = ['Неделя 1', 'Неделя 2', 'Неделя 3', 'Неделя 4']\n",
    "x = np.arange(len(labels))\n",
    "width = 0.25"
   ]
  },
  {
   "cell_type": "code",
   "execution_count": 31,
   "metadata": {},
   "outputs": [
    {
     "data": {
      "image/png": "[encoded data removed]",
      "text/plain": [
       "<Figure size 432x288 with 1 Axes>"
      ]
     },
     "metadata": {
      "needs_background": "light"
     },
     "output_type": "display_data"
    }
   ],
   "source": [
    "fig, ax = plt.subplots()\n",
    "rects1 = ax.bar(x - width, outerwear_sales, width, label='Верхняя одежда')\n",
    "rects2 = ax.bar(x, footwear_sales, width, label='Обувь')\n",
    "rects3 = ax.bar(x + width, accessories_sales, width, label='Аксессуары')"
   ]
  },
  {
   "cell_type": "code",
   "execution_count": 32,
   "metadata": {},
   "outputs": [
    {
     "name": "stdout",
     "output_type": "stream",
     "text": [
      "Среднее количество проданных единиц верхней одежды: 97.5\n",
      "Среднее количество проданных единиц обуви: 95.0\n",
      "Среднее количество проданных единиц аксессуаров: 71.25\n"
     ]
    }
   ],
   "source": [
    "print(\"Среднее количество проданных единиц верхней одежды:\", outerwear_avg_sales)\n",
    "print(\"Среднее количество проданных единиц обуви:\", footwear_avg_sales)\n",
    "print(\"Среднее количество проданных единиц аксессуаров:\", accessories_avg_sales)"
   ]
  }
 ],
 "metadata": {
  "kernelspec": {
   "display_name": "Python 3 (ipykernel)",
   "language": "python",
   "name": "python3"
  },
  "language_info": {
   "codemirror_mode": {
    "name": "ipython",
    "version": 3
   },
   "file_extension": ".py",
   "mimetype": "text/x-python",
   "name": "python",
   "nbconvert_exporter": "python",
   "pygments_lexer": "ipython3",
   "version": "3.9.12"
  }
 },
 "nbformat": 4,
 "nbformat_minor": 4
}
