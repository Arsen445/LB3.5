{
 "cells": [
  {
   "cell_type": "markdown",
   "metadata": {},
   "source": [
    "## Самостоятельное задание\n",
    "#### Создать ноутбук, в котором выполнить решение вычислительной задачи (например, задачи из области физики, экономики, математики, статистики и т. д.) требующей построения линейного графика, условие которой предварительно необходимо согласовать с преподавателем."
   ]
  },
  {
   "cell_type": "markdown",
   "metadata": {},
   "source": [
    "Частица массой 1 кг бросается с земли с начальной скоростью 30 м/с под углом 45 градусов относительно горизонтали.  Построить график движения частицы. \n",
    "\n",
    "Рассмотреть влияние силы сопротивления воздуха на движение частицы.\n",
    "\n",
    "Найти максимальную дальность полета"
   ]
  },
  {
   "cell_type": "code",
   "execution_count": 1,
   "metadata": {},
   "outputs": [],
   "source": [
    "import numpy as np\n",
    "\n",
    "import matplotlib.pyplot as plt\n",
    "%matplotlib inline"
   ]
  },
  {
   "cell_type": "markdown",
   "metadata": {},
   "source": [
    "Введем начальные значения для задачи\n",
    "\n",
    "$m$ - масса частицы\n",
    "\n",
    "$g$ - ускорение свободного падения\n",
    "\n",
    "$k$ - коэффициент сопротивления воздуха\n",
    "\n",
    "$v_0$ - начальная скорость частицы\n",
    "\n",
    "$theta$ - угол броска частицы"
   ]
  },
  {
   "cell_type": "code",
   "execution_count": 2,
   "metadata": {},
   "outputs": [],
   "source": [
    "m = 1\n",
    "g = 9.81  \n",
    "k = 0.01  \n",
    "v0 = 30 \n",
    "theta = np.pi/4 "
   ]
  },
  {
   "cell_type": "markdown",
   "metadata": {},
   "source": [
    "Введем начальные значения для задачи\n",
    "\n",
    "$x_0$ - начальная координата x\n",
    "\n",
    "$y_0$ - начальная координата y\n",
    "\n",
    "$v_x$ - начальная скорость по x. Находится по формуле $v_x = v_0 * cos(theta)$\n",
    "\n",
    "$v_y$ - начальная скорость по y. Находится по формуле $v_y = v_0 * sin(theta)$"
   ]
  },
  {
   "cell_type": "code",
   "execution_count": 3,
   "metadata": {},
   "outputs": [],
   "source": [
    "x0 = 0\n",
    "y0 = 0\n",
    "vx0 = v0*np.cos(theta)\n",
    "vy0 = v0*np.sin(theta)"
   ]
  },
  {
   "cell_type": "markdown",
   "metadata": {},
   "source": [
    "Создим массивы для хранения значений координат и скоростей частицы"
   ]
  },
  {
   "cell_type": "code",
   "execution_count": 4,
   "metadata": {},
   "outputs": [],
   "source": [
    "x = [x0]\n",
    "y = [y0]\n",
    "vx = [vx0]\n",
    "vy = [vy0]"
   ]
  },
  {
   "cell_type": "markdown",
   "metadata": {},
   "source": [
    "Рассчитываем ускорения по осям x и y, новые значения скоростей и координат, добавим их в соответствующие массивы."
   ]
  },
  {
   "cell_type": "code",
   "execution_count": 5,
   "metadata": {},
   "outputs": [],
   "source": [
    "i = 0.01\n",
    "while y[-1] >= 0:\n",
    "    ax = -k*vx[-1]**2/m   # ускорение по оси x (сила сопротивления воздуха)\n",
    "    ay = -g - k*vy[-1]**2/m  # ускорение по оси y (сила сопротивления воздуха и гравитация)\n",
    "    vx_new = vx[-1] + ax*i\n",
    "    vy_new = vy[-1] + ay*i\n",
    "    x_new = x[-1] + vx_new*i\n",
    "    y_new = y[-1] + vy_new*i\n",
    "    x.append(x_new)\n",
    "    y.append(y_new)\n",
    "    vx.append(vx_new)\n",
    "    vy.append(vy_new)\n"
   ]
  },
  {
   "cell_type": "markdown",
   "metadata": {},
   "source": [
    "построим график движения частицы"
   ]
  },
  {
   "cell_type": "code",
   "execution_count": 6,
   "metadata": {},
   "outputs": [
    {
     "data": {
      "image/png": "[encoded data removed]",
      "text/plain": [
       "<Figure size 432x288 with 1 Axes>"
      ]
     },
     "metadata": {
      "needs_background": "light"
     },
     "output_type": "display_data"
    }
   ],
   "source": [
    "# построение графика\n",
    "plt.plot(x, y)\n",
    "plt.xlabel('x')\n",
    "plt.ylabel('y')\n",
    "plt.title('Движение частицы в воздухе')\n",
    "plt.grid()\n",
    "plt.show()"
   ]
  }
 ],
 "metadata": {
  "kernelspec": {
   "display_name": "Python 3 (ipykernel)",
   "language": "python",
   "name": "python3"
  },
  "language_info": {
   "codemirror_mode": {
    "name": "ipython",
    "version": 3
   },
   "file_extension": ".py",
   "mimetype": "text/x-python",
   "name": "python",
   "nbconvert_exporter": "python",
   "pygments_lexer": "ipython3",
   "version": "3.9.12"
  }
 },
 "nbformat": 4,
 "nbformat_minor": 4
}
